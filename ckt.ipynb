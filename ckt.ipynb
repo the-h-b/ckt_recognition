{
 "cells": [
  {
   "cell_type": "code",
   "execution_count": 1,
   "metadata": {},
   "outputs": [
    {
     "name": "stdout",
     "output_type": "stream",
     "text": [
      "Initialised with 162 image(s) found.\n",
      "Output directory set to E:\\Research\\\\components\\1\\output."
     ]
    },
    {
     "name": "stderr",
     "output_type": "stream",
     "text": [
      "Processing <PIL.Image.Image image mode=RGBA size=148x203 at 0x1F4719C5ED0>: 100%|██████████| 150/150 [00:03<00:00, 49.25 Samples/s]\n"
     ]
    },
    {
     "name": "stdout",
     "output_type": "stream",
     "text": [
      "Initialised with 166 image(s) found.\n",
      "Output directory set to E:\\Research\\\\components\\2\\output."
     ]
    },
    {
     "name": "stderr",
     "output_type": "stream",
     "text": [
      "Processing <PIL.Image.Image image mode=RGBA size=193x166 at 0x1F4719777C0>: 100%|██████████| 150/150 [00:02<00:00, 74.36 Samples/s] \n"
     ]
    },
    {
     "name": "stdout",
     "output_type": "stream",
     "text": [
      "Initialised with 162 image(s) found.\n",
      "Output directory set to E:\\Research\\\\components\\3\\output."
     ]
    },
    {
     "name": "stderr",
     "output_type": "stream",
     "text": [
      "Processing <PIL.Image.Image image mode=RGBA size=166x245 at 0x1F4719C4A30>: 100%|██████████| 150/150 [00:02<00:00, 69.28 Samples/s] \n"
     ]
    },
    {
     "name": "stdout",
     "output_type": "stream",
     "text": [
      "Initialised with 116 image(s) found.\n",
      "Output directory set to E:\\Research\\\\components\\4\\output."
     ]
    },
    {
     "name": "stderr",
     "output_type": "stream",
     "text": [
      "Processing <PIL.Image.Image image mode=RGBA size=183x192 at 0x1F471977B20>:  36%|███▌      | 54/150 [00:00<00:01, 88.05 Samples/s] \n"
     ]
    },
    {
     "ename": "ValueError",
     "evalue": "Coordinate 'lower' is less than 'upper'",
     "output_type": "error",
     "traceback": [
      "\u001b[1;31m---------------------------------------------------------------------------\u001b[0m",
      "\u001b[1;31mValueError\u001b[0m                                Traceback (most recent call last)",
      "\u001b[1;32me:\\Research\\ckt.ipynb Cell 1\u001b[0m line \u001b[0;36m2\n\u001b[0;32m     <a href='vscode-notebook-cell:/e%3A/Research/ckt.ipynb#W0sZmlsZQ%3D%3D?line=25'>26</a>\u001b[0m     p\u001b[39m.\u001b[39mrandom_erasing(probability\u001b[39m=\u001b[39m\u001b[39m0.3\u001b[39m, rectangle_area\u001b[39m=\u001b[39m\u001b[39m0.2\u001b[39m)\n\u001b[0;32m     <a href='vscode-notebook-cell:/e%3A/Research/ckt.ipynb#W0sZmlsZQ%3D%3D?line=27'>28</a>\u001b[0m     \u001b[39m# Sample the augmented images (generate 150 augmented images for each folder)\u001b[39;00m\n\u001b[1;32m---> <a href='vscode-notebook-cell:/e%3A/Research/ckt.ipynb#W0sZmlsZQ%3D%3D?line=28'>29</a>\u001b[0m     p\u001b[39m.\u001b[39;49msample(\u001b[39m150\u001b[39;49m)\n\u001b[0;32m     <a href='vscode-notebook-cell:/e%3A/Research/ckt.ipynb#W0sZmlsZQ%3D%3D?line=29'>30</a>\u001b[0m \u001b[39melse\u001b[39;00m:\n\u001b[0;32m     <a href='vscode-notebook-cell:/e%3A/Research/ckt.ipynb#W0sZmlsZQ%3D%3D?line=30'>31</a>\u001b[0m     \u001b[39mprint\u001b[39m(\u001b[39mf\u001b[39m\u001b[39m\"\u001b[39m\u001b[39mFolder \u001b[39m\u001b[39m{\u001b[39;00mfolder_name\u001b[39m}\u001b[39;00m\u001b[39m does not exist at \u001b[39m\u001b[39m{\u001b[39;00mfolder_path\u001b[39m}\u001b[39;00m\u001b[39m\"\u001b[39m)\n",
      "File \u001b[1;32md:\\anaconda\\lib\\site-packages\\Augmentor\\Pipeline.py:364\u001b[0m, in \u001b[0;36mPipeline.sample\u001b[1;34m(self, n, multi_threaded)\u001b[0m\n\u001b[0;32m    362\u001b[0m \u001b[39mwith\u001b[39;00m tqdm(total\u001b[39m=\u001b[39m\u001b[39mlen\u001b[39m(augmentor_images), desc\u001b[39m=\u001b[39m\u001b[39m\"\u001b[39m\u001b[39mExecuting Pipeline\u001b[39m\u001b[39m\"\u001b[39m, unit\u001b[39m=\u001b[39m\u001b[39m\"\u001b[39m\u001b[39m Samples\u001b[39m\u001b[39m\"\u001b[39m) \u001b[39mas\u001b[39;00m progress_bar:\n\u001b[0;32m    363\u001b[0m     \u001b[39mwith\u001b[39;00m ThreadPoolExecutor(max_workers\u001b[39m=\u001b[39m\u001b[39mNone\u001b[39;00m) \u001b[39mas\u001b[39;00m executor:\n\u001b[1;32m--> 364\u001b[0m         \u001b[39mfor\u001b[39;00m result \u001b[39min\u001b[39;00m executor\u001b[39m.\u001b[39mmap(\u001b[39mself\u001b[39m, augmentor_images):\n\u001b[0;32m    365\u001b[0m             progress_bar\u001b[39m.\u001b[39mset_description(\u001b[39m\"\u001b[39m\u001b[39mProcessing \u001b[39m\u001b[39m%s\u001b[39;00m\u001b[39m\"\u001b[39m \u001b[39m%\u001b[39m result)\n\u001b[0;32m    366\u001b[0m             progress_bar\u001b[39m.\u001b[39mupdate(\u001b[39m1\u001b[39m)\n",
      "File \u001b[1;32md:\\anaconda\\lib\\concurrent\\futures\\_base.py:621\u001b[0m, in \u001b[0;36mExecutor.map.<locals>.result_iterator\u001b[1;34m()\u001b[0m\n\u001b[0;32m    618\u001b[0m \u001b[39mwhile\u001b[39;00m fs:\n\u001b[0;32m    619\u001b[0m     \u001b[39m# Careful not to keep a reference to the popped future\u001b[39;00m\n\u001b[0;32m    620\u001b[0m     \u001b[39mif\u001b[39;00m timeout \u001b[39mis\u001b[39;00m \u001b[39mNone\u001b[39;00m:\n\u001b[1;32m--> 621\u001b[0m         \u001b[39myield\u001b[39;00m _result_or_cancel(fs\u001b[39m.\u001b[39;49mpop())\n\u001b[0;32m    622\u001b[0m     \u001b[39melse\u001b[39;00m:\n\u001b[0;32m    623\u001b[0m         \u001b[39myield\u001b[39;00m _result_or_cancel(fs\u001b[39m.\u001b[39mpop(), end_time \u001b[39m-\u001b[39m time\u001b[39m.\u001b[39mmonotonic())\n",
      "File \u001b[1;32md:\\anaconda\\lib\\concurrent\\futures\\_base.py:319\u001b[0m, in \u001b[0;36m_result_or_cancel\u001b[1;34m(***failed resolving arguments***)\u001b[0m\n\u001b[0;32m    317\u001b[0m \u001b[39mtry\u001b[39;00m:\n\u001b[0;32m    318\u001b[0m     \u001b[39mtry\u001b[39;00m:\n\u001b[1;32m--> 319\u001b[0m         \u001b[39mreturn\u001b[39;00m fut\u001b[39m.\u001b[39;49mresult(timeout)\n\u001b[0;32m    320\u001b[0m     \u001b[39mfinally\u001b[39;00m:\n\u001b[0;32m    321\u001b[0m         fut\u001b[39m.\u001b[39mcancel()\n",
      "File \u001b[1;32md:\\anaconda\\lib\\concurrent\\futures\\_base.py:451\u001b[0m, in \u001b[0;36mFuture.result\u001b[1;34m(self, timeout)\u001b[0m\n\u001b[0;32m    449\u001b[0m     \u001b[39mraise\u001b[39;00m CancelledError()\n\u001b[0;32m    450\u001b[0m \u001b[39melif\u001b[39;00m \u001b[39mself\u001b[39m\u001b[39m.\u001b[39m_state \u001b[39m==\u001b[39m FINISHED:\n\u001b[1;32m--> 451\u001b[0m     \u001b[39mreturn\u001b[39;00m \u001b[39mself\u001b[39;49m\u001b[39m.\u001b[39;49m__get_result()\n\u001b[0;32m    453\u001b[0m \u001b[39mself\u001b[39m\u001b[39m.\u001b[39m_condition\u001b[39m.\u001b[39mwait(timeout)\n\u001b[0;32m    455\u001b[0m \u001b[39mif\u001b[39;00m \u001b[39mself\u001b[39m\u001b[39m.\u001b[39m_state \u001b[39min\u001b[39;00m [CANCELLED, CANCELLED_AND_NOTIFIED]:\n",
      "File \u001b[1;32md:\\anaconda\\lib\\concurrent\\futures\\_base.py:403\u001b[0m, in \u001b[0;36mFuture.__get_result\u001b[1;34m(self)\u001b[0m\n\u001b[0;32m    401\u001b[0m \u001b[39mif\u001b[39;00m \u001b[39mself\u001b[39m\u001b[39m.\u001b[39m_exception:\n\u001b[0;32m    402\u001b[0m     \u001b[39mtry\u001b[39;00m:\n\u001b[1;32m--> 403\u001b[0m         \u001b[39mraise\u001b[39;00m \u001b[39mself\u001b[39m\u001b[39m.\u001b[39m_exception\n\u001b[0;32m    404\u001b[0m     \u001b[39mfinally\u001b[39;00m:\n\u001b[0;32m    405\u001b[0m         \u001b[39m# Break a reference cycle with the exception in self._exception\u001b[39;00m\n\u001b[0;32m    406\u001b[0m         \u001b[39mself\u001b[39m \u001b[39m=\u001b[39m \u001b[39mNone\u001b[39;00m\n",
      "File \u001b[1;32md:\\anaconda\\lib\\concurrent\\futures\\thread.py:58\u001b[0m, in \u001b[0;36m_WorkItem.run\u001b[1;34m(self)\u001b[0m\n\u001b[0;32m     55\u001b[0m     \u001b[39mreturn\u001b[39;00m\n\u001b[0;32m     57\u001b[0m \u001b[39mtry\u001b[39;00m:\n\u001b[1;32m---> 58\u001b[0m     result \u001b[39m=\u001b[39m \u001b[39mself\u001b[39m\u001b[39m.\u001b[39mfn(\u001b[39m*\u001b[39m\u001b[39mself\u001b[39m\u001b[39m.\u001b[39margs, \u001b[39m*\u001b[39m\u001b[39m*\u001b[39m\u001b[39mself\u001b[39m\u001b[39m.\u001b[39mkwargs)\n\u001b[0;32m     59\u001b[0m \u001b[39mexcept\u001b[39;00m \u001b[39mBaseException\u001b[39;00m \u001b[39mas\u001b[39;00m exc:\n\u001b[0;32m     60\u001b[0m     \u001b[39mself\u001b[39m\u001b[39m.\u001b[39mfuture\u001b[39m.\u001b[39mset_exception(exc)\n",
      "File \u001b[1;32md:\\anaconda\\lib\\site-packages\\Augmentor\\Pipeline.py:105\u001b[0m, in \u001b[0;36mPipeline.__call__\u001b[1;34m(self, augmentor_image)\u001b[0m\n\u001b[0;32m     92\u001b[0m \u001b[39mdef\u001b[39;00m \u001b[39m__call__\u001b[39m(\u001b[39mself\u001b[39m, augmentor_image):\n\u001b[0;32m     93\u001b[0m     \u001b[39m\"\"\"\u001b[39;00m\n\u001b[0;32m     94\u001b[0m \u001b[39m    Function used by the ThreadPoolExecutor to process the pipeline\u001b[39;00m\n\u001b[0;32m     95\u001b[0m \u001b[39m    using multiple threads. Do not call directly.\u001b[39;00m\n\u001b[1;32m   (...)\u001b[0m\n\u001b[0;32m    103\u001b[0m \u001b[39m    :return: None\u001b[39;00m\n\u001b[0;32m    104\u001b[0m \u001b[39m    \"\"\"\u001b[39;00m\n\u001b[1;32m--> 105\u001b[0m     \u001b[39mreturn\u001b[39;00m \u001b[39mself\u001b[39;49m\u001b[39m.\u001b[39;49m_execute(augmentor_image)\n",
      "File \u001b[1;32md:\\anaconda\\lib\\site-packages\\Augmentor\\Pipeline.py:233\u001b[0m, in \u001b[0;36mPipeline._execute\u001b[1;34m(self, augmentor_image, save_to_disk, multi_threaded)\u001b[0m\n\u001b[0;32m    231\u001b[0m     r \u001b[39m=\u001b[39m \u001b[39mround\u001b[39m(random\u001b[39m.\u001b[39muniform(\u001b[39m0\u001b[39m, \u001b[39m1\u001b[39m), \u001b[39m1\u001b[39m)\n\u001b[0;32m    232\u001b[0m     \u001b[39mif\u001b[39;00m r \u001b[39m<\u001b[39m\u001b[39m=\u001b[39m operation\u001b[39m.\u001b[39mprobability:\n\u001b[1;32m--> 233\u001b[0m         images \u001b[39m=\u001b[39m operation\u001b[39m.\u001b[39;49mperform_operation(images)\n\u001b[0;32m    235\u001b[0m \u001b[39m# TEMP FOR TESTING\u001b[39;00m\n\u001b[0;32m    236\u001b[0m \u001b[39m# save_to_disk = False\u001b[39;00m\n\u001b[0;32m    238\u001b[0m \u001b[39mif\u001b[39;00m save_to_disk:\n",
      "File \u001b[1;32md:\\anaconda\\lib\\site-packages\\Augmentor\\Operations.py:851\u001b[0m, in \u001b[0;36mRotateRange.perform_operation\u001b[1;34m(self, images)\u001b[0m\n\u001b[0;32m    848\u001b[0m augmented_images \u001b[39m=\u001b[39m []\n\u001b[0;32m    850\u001b[0m \u001b[39mfor\u001b[39;00m image \u001b[39min\u001b[39;00m images:\n\u001b[1;32m--> 851\u001b[0m     augmented_images\u001b[39m.\u001b[39mappend(do(image))\n\u001b[0;32m    853\u001b[0m \u001b[39mreturn\u001b[39;00m augmented_images\n",
      "File \u001b[1;32md:\\anaconda\\lib\\site-packages\\Augmentor\\Operations.py:843\u001b[0m, in \u001b[0;36mRotateRange.perform_operation.<locals>.do\u001b[1;34m(image)\u001b[0m\n\u001b[0;32m    839\u001b[0m A \u001b[39m=\u001b[39m (math\u001b[39m.\u001b[39msin(angle_a_rad) \u001b[39m/\u001b[39m math\u001b[39m.\u001b[39msin(angle_b_rad)) \u001b[39m*\u001b[39m B\n\u001b[0;32m    841\u001b[0m \u001b[39m# Crop this area from the rotated image\u001b[39;00m\n\u001b[0;32m    842\u001b[0m \u001b[39m# image = image.crop((E, A, X - E, Y - A))\u001b[39;00m\n\u001b[1;32m--> 843\u001b[0m image \u001b[39m=\u001b[39m image\u001b[39m.\u001b[39;49mcrop((\u001b[39mint\u001b[39;49m(\u001b[39mround\u001b[39;49m(E)), \u001b[39mint\u001b[39;49m(\u001b[39mround\u001b[39;49m(A)), \u001b[39mint\u001b[39;49m(\u001b[39mround\u001b[39;49m(X \u001b[39m-\u001b[39;49m E)), \u001b[39mint\u001b[39;49m(\u001b[39mround\u001b[39;49m(Y \u001b[39m-\u001b[39;49m A))))\n\u001b[0;32m    845\u001b[0m \u001b[39m# Return the image, re-sized to the size of the image passed originally\u001b[39;00m\n\u001b[0;32m    846\u001b[0m \u001b[39mreturn\u001b[39;00m image\u001b[39m.\u001b[39mresize((x, y), resample\u001b[39m=\u001b[39mImage\u001b[39m.\u001b[39mBICUBIC)\n",
      "File \u001b[1;32md:\\anaconda\\lib\\site-packages\\PIL\\Image.py:1231\u001b[0m, in \u001b[0;36mImage.crop\u001b[1;34m(self, box)\u001b[0m\n\u001b[0;32m   1229\u001b[0m \u001b[39melif\u001b[39;00m box[\u001b[39m3\u001b[39m] \u001b[39m<\u001b[39m box[\u001b[39m1\u001b[39m]:\n\u001b[0;32m   1230\u001b[0m     msg \u001b[39m=\u001b[39m \u001b[39m\"\u001b[39m\u001b[39mCoordinate \u001b[39m\u001b[39m'\u001b[39m\u001b[39mlower\u001b[39m\u001b[39m'\u001b[39m\u001b[39m is less than \u001b[39m\u001b[39m'\u001b[39m\u001b[39mupper\u001b[39m\u001b[39m'\u001b[39m\u001b[39m\"\u001b[39m\n\u001b[1;32m-> 1231\u001b[0m     \u001b[39mraise\u001b[39;00m \u001b[39mValueError\u001b[39;00m(msg)\n\u001b[0;32m   1233\u001b[0m \u001b[39mself\u001b[39m\u001b[39m.\u001b[39mload()\n\u001b[0;32m   1234\u001b[0m \u001b[39mreturn\u001b[39;00m \u001b[39mself\u001b[39m\u001b[39m.\u001b[39m_new(\u001b[39mself\u001b[39m\u001b[39m.\u001b[39m_crop(\u001b[39mself\u001b[39m\u001b[39m.\u001b[39mim, box))\n",
      "\u001b[1;31mValueError\u001b[0m: Coordinate 'lower' is less than 'upper'"
     ]
    }
   ],
   "source": [
    "import os\n",
    "import Augmentor\n",
    "\n",
    "# Define the base directory where the subfolders are located\n",
    "base_directory = r\"E:\\Research\\\\components\"\n",
    "\n",
    "# Loop through all 15 folders\n",
    "for i in range(1, 5):\n",
    "    # Define the path for the current folder using os.path.join\n",
    "    folder_name = str(i)\n",
    "    folder_path = os.path.join(base_directory, folder_name)\n",
    "    \n",
    "    # Check if the folder exists\n",
    "    if os.path.exists(folder_path):\n",
    "        # Create an Augmentor pipeline for image augmentation\n",
    "        p = Augmentor.Pipeline(folder_path)\n",
    "        \n",
    "        # Add augmentation operations as needed\n",
    "        p.zoom(probability=0.6, min_factor=0.75, max_factor=1)\n",
    "        p.flip_top_bottom(probability=0.5)\n",
    "        p.flip_left_right(probability=0.5)\n",
    "        p.rotate(probability=1, max_left_rotation=25, max_right_rotation=25)\n",
    "        p.rotate_random_90(probability=1)\n",
    "        p.random_brightness(probability=0.5, min_factor=0.4, max_factor=0.9)\n",
    "        p.random_distortion(probability=0.5, grid_width=7, grid_height=8, magnitude=9)\n",
    "        p.random_erasing(probability=0.3, rectangle_area=0.2)\n",
    "        \n",
    "        # Sample the augmented images (generate 150 augmented images for each folder)\n",
    "        p.sample(150)\n",
    "    else:\n",
    "        print(f\"Folder {folder_name} does not exist at {folder_path}\")"
   ]
  },
  {
   "cell_type": "code",
   "execution_count": 2,
   "metadata": {},
   "outputs": [
    {
     "name": "stdout",
     "output_type": "stream",
     "text": [
      "Found 55308 images belonging to 3 classes.\n",
      "Found 13827 images belonging to 3 classes.\n"
     ]
    }
   ],
   "source": [
    "import tensorflow as tf\n",
    "from tensorflow.keras.preprocessing.image import ImageDataGenerator\n",
    "import os\n",
    "\n",
    "# Define the root directory containing subfolders for each image class\n",
    "data_dir = 'E:\\Research\\data'\n",
    "batch_size = 32\n",
    "image_size = (224, 224)  # Adjust the size as needed\n",
    "\n",
    "# Use the ImageDataGenerator to load and preprocess images\n",
    "datagen = ImageDataGenerator(\n",
    "    rescale=1./255,  # Normalize pixel values to [0, 1]\n",
    "    validation_split=0.2,  # Split the data into training and validation sets\n",
    ")\n",
    "\n",
    "# Create a training dataset\n",
    "train_data = datagen.flow_from_directory(\n",
    "    data_dir,\n",
    "    target_size=image_size,\n",
    "    batch_size=batch_size,\n",
    "    class_mode='categorical',  # Use 'categorical' for multi-class classification\n",
    "    subset='training',  # Specify 'training' to create the training dataset\n",
    "    shuffle=True,  # Shuffle the data\n",
    ")\n",
    "\n",
    "# Create a validation dataset\n",
    "val_data = datagen.flow_from_directory(\n",
    "    data_dir,\n",
    "    target_size=image_size,\n",
    "    batch_size=batch_size,\n",
    "    class_mode='categorical',  # Use 'categorical' for multi-class classification\n",
    "    subset='validation',  # Specify 'validation' to create the validation dataset\n",
    "    shuffle=False,  # Do not shuffle the validation data\n",
    ")\n",
    "\n",
    "# Optionally, you can create a test dataset in a similar way\n",
    "# test_data = datagen.flow_from_directory(\n",
    "#     'test_data_dir',\n",
    "#     target_size=image_size,\n",
    "#     batch_size=batch_size,\n",
    "#     class_mode='categorical',  # Use 'categorical' for multi-class classification\n",
    "#     shuffle=False,  # Do not shuffle the test data\n",
    "# )\n",
    "\n",
    "# You can now use train_data and val_data for training and validation in your machine learning model."
   ]
  },
  {
   "cell_type": "code",
   "execution_count": 6,
   "metadata": {},
   "outputs": [
    {
     "name": "stdout",
     "output_type": "stream",
     "text": [
      "Extracting patches for Component 1\n"
     ]
    },
    {
     "name": "stderr",
     "output_type": "stream",
     "text": [
      "100%|██████████| 5036/5036 [04:39<00:00, 18.03it/s]\n"
     ]
    },
    {
     "name": "stdout",
     "output_type": "stream",
     "text": [
      "Extracting patches for Component 2\n"
     ]
    },
    {
     "name": "stderr",
     "output_type": "stream",
     "text": [
      "100%|██████████| 5000/5000 [02:54<00:00, 28.61it/s]\n"
     ]
    },
    {
     "name": "stdout",
     "output_type": "stream",
     "text": [
      "Extracting patches for Component 3\n"
     ]
    },
    {
     "name": "stderr",
     "output_type": "stream",
     "text": [
      "100%|██████████| 5250/5250 [02:18<00:00, 37.99it/s] \n"
     ]
    },
    {
     "name": "stdout",
     "output_type": "stream",
     "text": [
      "Extracting patches for Component 4\n"
     ]
    },
    {
     "name": "stderr",
     "output_type": "stream",
     "text": [
      "100%|██████████| 5244/5244 [02:39<00:00, 32.94it/s]\n"
     ]
    },
    {
     "name": "stdout",
     "output_type": "stream",
     "text": [
      "Extracting patches for Component 5\n"
     ]
    },
    {
     "name": "stderr",
     "output_type": "stream",
     "text": [
      "100%|██████████| 4250/4250 [01:22<00:00, 51.35it/s]\n"
     ]
    },
    {
     "name": "stdout",
     "output_type": "stream",
     "text": [
      "Extracting patches for Component 6\n"
     ]
    },
    {
     "name": "stderr",
     "output_type": "stream",
     "text": [
      "100%|██████████| 4000/4000 [01:10<00:00, 57.00it/s]\n"
     ]
    },
    {
     "name": "stdout",
     "output_type": "stream",
     "text": [
      "Extracting patches for Component 7\n"
     ]
    },
    {
     "name": "stderr",
     "output_type": "stream",
     "text": [
      "100%|██████████| 1250/1250 [00:16<00:00, 75.12it/s]\n"
     ]
    },
    {
     "name": "stdout",
     "output_type": "stream",
     "text": [
      "Extracting patches for Component 8\n"
     ]
    },
    {
     "name": "stderr",
     "output_type": "stream",
     "text": [
      "100%|██████████| 4250/4250 [01:35<00:00, 44.51it/s] \n"
     ]
    },
    {
     "name": "stdout",
     "output_type": "stream",
     "text": [
      "Extracting patches for Component 9\n"
     ]
    },
    {
     "name": "stderr",
     "output_type": "stream",
     "text": [
      "100%|██████████| 5588/5588 [02:07<00:00, 43.87it/s]\n"
     ]
    },
    {
     "name": "stdout",
     "output_type": "stream",
     "text": [
      "Extracting patches for Component 10\n"
     ]
    },
    {
     "name": "stderr",
     "output_type": "stream",
     "text": [
      "100%|██████████| 5388/5388 [02:33<00:00, 35.06it/s]\n"
     ]
    },
    {
     "name": "stdout",
     "output_type": "stream",
     "text": [
      "Extracting patches for Component 11\n"
     ]
    },
    {
     "name": "stderr",
     "output_type": "stream",
     "text": [
      "100%|██████████| 6250/6250 [01:14<00:00, 83.71it/s] \n"
     ]
    },
    {
     "name": "stdout",
     "output_type": "stream",
     "text": [
      "Extracting patches for Component 12\n"
     ]
    },
    {
     "name": "stderr",
     "output_type": "stream",
     "text": [
      "100%|██████████| 250/250 [00:04<00:00, 58.58it/s]\n"
     ]
    },
    {
     "name": "stdout",
     "output_type": "stream",
     "text": [
      "Extracting patches for Component 13\n"
     ]
    },
    {
     "name": "stderr",
     "output_type": "stream",
     "text": [
      "100%|██████████| 5713/5713 [01:13<00:00, 77.47it/s] \n"
     ]
    },
    {
     "name": "stdout",
     "output_type": "stream",
     "text": [
      "Extracting patches for Component 14\n"
     ]
    },
    {
     "name": "stderr",
     "output_type": "stream",
     "text": [
      "100%|██████████| 4566/4566 [01:31<00:00, 49.83it/s]\n"
     ]
    },
    {
     "name": "stdout",
     "output_type": "stream",
     "text": [
      "Extracting patches for Component 15\n"
     ]
    },
    {
     "name": "stderr",
     "output_type": "stream",
     "text": [
      "100%|██████████| 3500/3500 [01:50<00:00, 31.72it/s]\n"
     ]
    }
   ],
   "source": [
    "import numpy as np\n",
    "import cv2 as cv\n",
    "from glob import glob\n",
    "from tqdm import tqdm\n",
    "\n",
    "# Initialize data and label lists\n",
    "data_list = []\n",
    "label_list = []\n",
    "\n",
    "# Define the shape for resizing\n",
    "image_shape = (32, 32)\n",
    "\n",
    "# Function to convert an image to an array\n",
    "def img_to_arr(add, shape):\n",
    "    image = cv.imread(add)\n",
    "    image = cv.cvtColor(image, cv.COLOR_BGR2GRAY)\n",
    "    image = cv.resize(image, shape)\n",
    "    image = image.astype(\"float32\") / 255\n",
    "    return image\n",
    "\n",
    "for i in range(1, 16):\n",
    "    print('Extracting patches for Component ' + str(i))\n",
    "    path = 'E:\\\\Research\\\\data\\\\train\\\\' + str(i) + '\\\\'\n",
    "    type_1 = glob(path + '*.bmp')\n",
    "\n",
    "    for image_path in tqdm(type_1):\n",
    "        image = img_to_arr(image_path, image_shape)\n",
    "        data_list.append(image)\n",
    "        label_list.append(i)\n",
    "\n",
    "data = np.stack(data_list, axis=0)  # Convert the list of images to a NumPy array\n",
    "labels = np.array(label_list)\n",
    "\n",
    "# Save the data and labels\n",
    "np.save('E:\\\\Research\\\\test\\\\data_32.npy', data)\n",
    "np.save('E:\\\\Research\\\\test\\\\labels.npy', labels)\n"
   ]
  },
  {
   "cell_type": "code",
   "execution_count": null,
   "metadata": {},
   "outputs": [],
   "source": [
    "import numpy as np\n",
    "import cv2 as cv\n",
    "from glob import glob\n",
    "from tqdm import tqdm\n",
    "\n",
    "def img_to_arr(add, shape):\n",
    "    image = cv.imread(add)\n",
    "    #image = cv.cvtColor(image, cv.COLOR_BGR2GRAY)\n",
    "    image = cv.resize(image, shape)\n",
    "    image = image.astype(\"float32\") / 255\n",
    "    return np.array(image)\n",
    "\n",
    "for i in range(14, 15):\n",
    "    data = []  # Create an empty list for the data\n",
    "    label = []\n",
    "\n",
    "    path = 'E:\\\\Research\\\\data\\\\train' + str(i) + '\\\\'\n",
    "    print('Extracting patches for Component' + str(i))\n",
    "    type_1 = glob(path + '*.bmp')\n",
    "\n",
    "    for j in tqdm(range(len(type_1))):\n",
    "        image = img_to_arr(type_1[j], [32, 32])\n",
    "        data.append(image)  # Append the image to the list\n",
    "        label.append(i)\n",
    "\n",
    "    path2 = 'E:\\\\Research\\\\test' + str(i) + '\\\\'\n",
    "    type_2 = glob(path2 + '*.bmp')\n",
    "\n",
    "    for j in tqdm(range(len(type_2))):\n",
    "        image = img_to_arr(type_2[j], [32, 32])\n",
    "        data.append(image)  # Append the image to the list\n",
    "        label.append(i)\n",
    "\n",
    "    data = np.array(data)  # Convert the list to a NumPy array\n",
    "\n",
    "    # Save the data and labels\n",
    "    np.save('E:\\\\Research\\\\test\\\\data_32_' + str(i) + '.npy', data)\n",
    "    np.save('E:\\\\Research\\\\test\\\\label_32_' + str(i) + '.npy', label)\n"
   ]
  },
  {
   "cell_type": "code",
   "execution_count": null,
   "metadata": {},
   "outputs": [],
   "source": [
    "import numpy as np\n",
    "import cv2 as cv\n",
    "from glob import glob\n",
    "from tqdm import tqdm\n",
    "\n",
    "data = np.empty((32, 32))  \n",
    "label = []\n",
    "\n",
    "def img_to_arr(add, shape):\n",
    "    image = cv.imread(add)\n",
    "    image = cv.cvtColor(image, cv.COLOR_BGR2GRAY)\n",
    "    image = cv.resize(image, shape)\n",
    "    image = image.astype(\"float32\") / 255\n",
    "    return np.array(image)\n",
    "\n",
    "for i in range(1, 5):\n",
    "    print('Extracting patches for Component' + str(i))\n",
    "    path = 'E:\\Research\\components' + str(i) + '/'\n",
    "    type_1 = glob(path + '*.bmp')\n",
    "\n",
    "    for j in tqdm(range(len(type_1))):\n",
    "        image = img_to_arr(type_1[j], [32, 32])\n",
    "        data = np.dstack([data, image])\n",
    "        label.append(i)"
   ]
  },
  {
   "cell_type": "code",
   "execution_count": null,
   "metadata": {},
   "outputs": [],
   "source": [
    "\n",
    "def img_to_arr(add, shape):\n",
    "  image = cv.imread(add)\n",
    "  image = cv.cvtColor(image, cv.COLOR_BGR2GRAY)\n",
    "  image = cv.resize(image,shape)\n",
    "  image=image.astype(\"float32\") / 255\n",
    "  #image = image/255.0\n",
    "  #image = image.reshape((1,shape[0]*shape[1]))\n",
    "  return (np.array(image))\n",
    "\n",
    "for i in range(1,16):\n",
    "  print('Extracting patches for '+str(i))\n",
    "  path='E:\\Research\\\\test'+ str(i)+'/'\n",
    "  type_1 = glob(path+'*.bmp')\n",
    "  for j in tqdm(range(len(type_1))):\n",
    "    image=img_to_arr(type_1[j],[32,32])\n",
    "    data=np.dstack([data,image])\n",
    "    label.append(i)"
   ]
  },
  {
   "cell_type": "code",
   "execution_count": 7,
   "metadata": {},
   "outputs": [
    {
     "name": "stdout",
     "output_type": "stream",
     "text": [
      "Combining features for 1\n",
      "Combining features for 2\n",
      "Combining features for 3\n",
      "Combining features for 4\n",
      "Combining features for 5\n",
      "Combining features for 6\n",
      "Combining features for 7\n",
      "Combining features for 8\n",
      "Combining features for 9\n",
      "Combining features for 10\n",
      "Combining features for 11\n",
      "Combining features for 12\n",
      "Combining features for 13\n",
      "Combining features for 14\n",
      "Combining features for 15\n"
     ]
    }
   ],
   "source": [
    "import numpy as np\n",
    "\n",
    "data_1 = None  # Initialize as None\n",
    "label1 = []\n",
    "\n",
    "for i in range(1, 16):\n",
    "    print('Combining features for ' + str(i))\n",
    "    \n",
    "    if i == 14:\n",
    "        data2 = np.load('E:\\\\Research\\\\test\\\\data_32_' + str(i) + '.npy')\n",
    "        label2 = np.load('E:\\\\Research\\\\test\\\\label_32_' + str(i) + '.npy')\n",
    "        \n",
    "        if data_1 is None:\n",
    "            data_1 = data2\n",
    "        else:\n",
    "            if data_1.shape[2] == data2.shape[2]:\n",
    "                data_1 = np.dstack([data_1, data2])\n",
    "            else:\n",
    "                print(f\"Dimensions don't match for Component {i}. Skipping.\")\n",
    "        \n",
    "        for j in label2:\n",
    "            label1.append(j)\n",
    "\n",
    "# Ensure data_1 has 3 dimensions (height, width, num_samples)\n",
    "if data_1 is not None and data_1.ndim == 2:\n",
    "    data_1 = data_1[:, :, np.newaxis]\n",
    "\n",
    "# Save the combined data and labels\n",
    "if data_1 is not None:\n",
    "    np.save('E:\\\\Research\\\\test\\\\fulldata_32.npy', data_1)\n",
    "if label1:\n",
    "    np.save('E:\\\\Research\\\\test\\\\fulllabels_32.npy', label1)\n"
   ]
  },
  {
   "cell_type": "code",
   "execution_count": 13,
   "metadata": {},
   "outputs": [
    {
     "name": "stdout",
     "output_type": "stream",
     "text": [
      "Extracting patches for Component 1\n"
     ]
    },
    {
     "name": "stderr",
     "output_type": "stream",
     "text": [
      "100%|██████████| 5036/5036 [02:17<00:00, 36.58it/s]\n"
     ]
    },
    {
     "name": "stdout",
     "output_type": "stream",
     "text": [
      "Extracting patches for Component 2\n"
     ]
    },
    {
     "name": "stderr",
     "output_type": "stream",
     "text": [
      "100%|██████████| 5000/5000 [01:38<00:00, 50.83it/s]\n"
     ]
    },
    {
     "name": "stdout",
     "output_type": "stream",
     "text": [
      "Extracting patches for Component 3\n"
     ]
    },
    {
     "name": "stderr",
     "output_type": "stream",
     "text": [
      "100%|██████████| 5250/5250 [01:47<00:00, 48.93it/s]\n"
     ]
    },
    {
     "name": "stdout",
     "output_type": "stream",
     "text": [
      "Extracting patches for Component 4\n"
     ]
    },
    {
     "name": "stderr",
     "output_type": "stream",
     "text": [
      "100%|██████████| 5244/5244 [01:42<00:00, 51.12it/s]\n"
     ]
    },
    {
     "name": "stdout",
     "output_type": "stream",
     "text": [
      "Extracting patches for Component 5\n"
     ]
    },
    {
     "name": "stderr",
     "output_type": "stream",
     "text": [
      "100%|██████████| 4250/4250 [01:19<00:00, 53.74it/s]\n"
     ]
    },
    {
     "name": "stdout",
     "output_type": "stream",
     "text": [
      "Extracting patches for Component 6\n"
     ]
    },
    {
     "name": "stderr",
     "output_type": "stream",
     "text": [
      "100%|██████████| 4000/4000 [01:19<00:00, 50.56it/s]\n"
     ]
    },
    {
     "name": "stdout",
     "output_type": "stream",
     "text": [
      "Extracting patches for Component 7\n"
     ]
    },
    {
     "name": "stderr",
     "output_type": "stream",
     "text": [
      "100%|██████████| 1250/1250 [00:17<00:00, 71.32it/s]\n"
     ]
    },
    {
     "name": "stdout",
     "output_type": "stream",
     "text": [
      "Extracting patches for Component 8\n"
     ]
    },
    {
     "name": "stderr",
     "output_type": "stream",
     "text": [
      "100%|██████████| 4250/4250 [00:56<00:00, 74.98it/s] \n"
     ]
    },
    {
     "name": "stdout",
     "output_type": "stream",
     "text": [
      "Extracting patches for Component 9\n"
     ]
    },
    {
     "name": "stderr",
     "output_type": "stream",
     "text": [
      "100%|██████████| 5588/5588 [01:30<00:00, 61.60it/s]\n"
     ]
    },
    {
     "name": "stdout",
     "output_type": "stream",
     "text": [
      "Extracting patches for Component 10\n"
     ]
    },
    {
     "name": "stderr",
     "output_type": "stream",
     "text": [
      "100%|██████████| 5388/5388 [02:27<00:00, 36.58it/s]\n"
     ]
    },
    {
     "name": "stdout",
     "output_type": "stream",
     "text": [
      "Extracting patches for Component 11\n"
     ]
    },
    {
     "name": "stderr",
     "output_type": "stream",
     "text": [
      "100%|██████████| 6250/6250 [01:34<00:00, 66.22it/s] \n"
     ]
    },
    {
     "name": "stdout",
     "output_type": "stream",
     "text": [
      "Extracting patches for Component 12\n"
     ]
    },
    {
     "name": "stderr",
     "output_type": "stream",
     "text": [
      "100%|██████████| 250/250 [00:03<00:00, 74.03it/s]\n"
     ]
    },
    {
     "name": "stdout",
     "output_type": "stream",
     "text": [
      "Extracting patches for Component 13\n"
     ]
    },
    {
     "name": "stderr",
     "output_type": "stream",
     "text": [
      "100%|██████████| 5713/5713 [01:16<00:00, 74.38it/s]\n"
     ]
    },
    {
     "name": "stdout",
     "output_type": "stream",
     "text": [
      "Extracting patches for Component 14\n"
     ]
    },
    {
     "name": "stderr",
     "output_type": "stream",
     "text": [
      "100%|██████████| 4566/4566 [01:48<00:00, 42.22it/s]\n"
     ]
    },
    {
     "name": "stdout",
     "output_type": "stream",
     "text": [
      "Extracting patches for Component 15\n"
     ]
    },
    {
     "name": "stderr",
     "output_type": "stream",
     "text": [
      "100%|██████████| 3500/3500 [02:09<00:00, 26.92it/s]\n"
     ]
    },
    {
     "name": "stdout",
     "output_type": "stream",
     "text": [
      "[ 1  1  1 ... 15 15 15]\n",
      "Combining features for 1\n",
      "Combining features for 2\n",
      "Combining features for 3\n",
      "Combining features for 4\n",
      "Combining features for 5\n",
      "Combining features for 6\n",
      "Combining features for 7\n",
      "Combining features for 8\n",
      "Combining features for 9\n",
      "Combining features for 10\n",
      "Combining features for 11\n",
      "Combining features for 12\n",
      "Combining features for 13\n",
      "Combining features for 14\n",
      "Combining features for 15\n",
      "[]\n"
     ]
    }
   ],
   "source": [
    "import numpy as np\n",
    "import cv2 as cv\n",
    "from glob import glob\n",
    "from tqdm import tqdm\n",
    "\n",
    "# Initialize data and label lists\n",
    "data_list = []\n",
    "label_list = []\n",
    "\n",
    "# Define the shape for resizing\n",
    "image_shape = (32, 32)\n",
    "\n",
    "# Function to convert an image to an array\n",
    "def img_to_arr(add, shape):\n",
    "    image = cv.imread(add)\n",
    "    image = cv.cvtColor(image, cv.COLOR_BGR2GRAY)\n",
    "    image = cv.resize(image, shape)\n",
    "    image = image.astype(\"float32\") / 255\n",
    "    return image\n",
    "\n",
    "for i in range(1, 16):\n",
    "    print('Extracting patches for Component ' + str(i))\n",
    "    path = 'E:\\\\Research\\\\data\\\\train\\\\' + str(i) + '\\\\'\n",
    "    type_1 = glob(path + '*.bmp')\n",
    "\n",
    "    for image_path in tqdm(type_1):\n",
    "        image = img_to_arr(image_path, image_shape)\n",
    "        data_list.append(image)\n",
    "        label_list.append(i)\n",
    "\n",
    "data = np.stack(data_list, axis=0)  # Convert the list of images to a NumPy array\n",
    "labels = np.array(label_list)\n",
    "\n",
    "# Print labels to check if they are correctly populated\n",
    "print(labels)\n",
    "\n",
    "# Save the data and labels\n",
    "np.save('E:\\\\Research\\\\test\\\\data_32.npy', data)\n",
    "np.save('E:\\\\Research\\\\test\\\\labels.npy', labels)\n",
    "\n",
    "import numpy as np\n",
    "\n",
    "data_1 = None  # Initialize as None\n",
    "label1 = []\n",
    "\n",
    "for i in range(1, 16):\n",
    "    print('Combining features for ' + str(i))\n",
    "    \n",
    "    if i == 14:\n",
    "        data2 = np.load('E:\\\\Research\\\\test\\\\data_32_' + str(i) + '.npy')\n",
    "        label2 = np.load('E:\\\\Research\\\\test\\\\label_32_' + str(i) + '.npy')\n",
    "        \n",
    "        if data_1 is None:\n",
    "            data_1 = data2\n",
    "        else:\n",
    "            if data_1.shape[2] == data2.shape[2]:\n",
    "                data_1 = np.dstack([data_1, data2])\n",
    "            else:\n",
    "                print(f\"Dimensions don't match for Component {i}. Skipping.\")\n",
    "        \n",
    "        for j in label2:\n",
    "            label1.append(j)\n",
    "\n",
    "# Ensure data_1 has 3 dimensions (height, width, num_samples)\n",
    "if data_1 is not None and data_1.ndim == 2:\n",
    "    data_1 = data_1[:, :, np.newaxis]\n",
    "\n",
    "# Print label1 to check if it's correctly populated\n",
    "print(label1)\n",
    "\n",
    "# Save the combined data and labels\n",
    "if data_1 is not None:\n",
    "    np.save('E:\\\\Research\\\\test\\\\fulldata_32.npy', data_1)\n",
    "if label1:\n",
    "    np.save('E:\\\\Research\\\\test\\\\fulllabels_32.npy', label1)\n"
   ]
  },
  {
   "cell_type": "code",
   "execution_count": 15,
   "metadata": {},
   "outputs": [],
   "source": [
    "from sklearn.model_selection import train_test_split\n",
    "import numpy as np\n",
    "\n",
    "# Load data and labels\n",
    "data_1 = np.load('E:\\\\Research\\\\test\\\\data_32.npy')\n",
    "label = np.load('E:\\\\Research\\\\test\\\\labels.npy')\n",
    "\n",
    "# Reshape the data (assuming the shape is (num_samples, height, width))\n",
    "data_1 = data_1.reshape(data_1.shape[0], 32, 32, 1)\n",
    "\n",
    "label = label - 1\n",
    "\n",
    "# Split the data into training, validation, and test sets\n",
    "X_train, X_temp, y_train, y_temp = train_test_split(data_1, label, test_size=0.4, random_state=10, stratify=label)\n",
    "X_val, X_test, y_val, y_test = train_test_split(X_temp, y_temp, test_size=0.5, random_state=10, stratify=y_temp)\n"
   ]
  },
  {
   "cell_type": "code",
   "execution_count": 25,
   "metadata": {},
   "outputs": [
    {
     "name": "stdout",
     "output_type": "stream",
     "text": [
      "410/410 [==============================] - 20s 49ms/step\n"
     ]
    },
    {
     "data": {
      "image/png": "[encoded data removed]",
      "text/plain": [
       "<Figure size 800x600 with 2 Axes>"
      ]
     },
     "metadata": {},
     "output_type": "display_data"
    }
   ],
   "source": [
    "from sklearn.metrics import confusion_matrix\n",
    "import matplotlib.pyplot as plt\n",
    "import seaborn as sns\n",
    "\n",
    "# Assuming you have predictions in y_pred (replace with your actual predictions)\n",
    "y_pred = model.predict(X_test)\n",
    "\n",
    "# Calculate the confusion matrix\n",
    "conf_matrix = confusion_matrix(y_test, y_pred.argmax(axis=1))\n",
    "\n",
    "# Plot the confusion matrix\n",
    "plt.figure(figsize=(8, 6))\n",
    "sns.heatmap(conf_matrix, annot=True, fmt='d', cmap='Blues')\n",
    "plt.xlabel('Predicted')\n",
    "plt.ylabel('True')\n",
    "plt.title('Confusion Matrix')\n",
    "plt.show()"
   ]
  },
  {
   "cell_type": "code",
   "execution_count": 28,
   "metadata": {},
   "outputs": [
    {
     "ename": "ValueError",
     "evalue": "Classification metrics can't handle a mix of multiclass and multilabel-indicator targets",
     "output_type": "error",
     "traceback": [
      "\u001b[1;31m---------------------------------------------------------------------------\u001b[0m",
      "\u001b[1;31mValueError\u001b[0m                                Traceback (most recent call last)",
      "\u001b[1;32me:\\Research\\ckt.ipynb Cell 11\u001b[0m line \u001b[0;36m1\n\u001b[0;32m      <a href='vscode-notebook-cell:/e%3A/Research/ckt.ipynb#X20sZmlsZQ%3D%3D?line=7'>8</a>\u001b[0m y_pred_labels \u001b[39m=\u001b[39m (y_pred \u001b[39m>\u001b[39m threshold)\u001b[39m.\u001b[39mastype(\u001b[39mint\u001b[39m)\n\u001b[0;32m     <a href='vscode-notebook-cell:/e%3A/Research/ckt.ipynb#X20sZmlsZQ%3D%3D?line=9'>10</a>\u001b[0m \u001b[39m# Calculate the confusion matrix with the discrete labels\u001b[39;00m\n\u001b[1;32m---> <a href='vscode-notebook-cell:/e%3A/Research/ckt.ipynb#X20sZmlsZQ%3D%3D?line=10'>11</a>\u001b[0m confusion \u001b[39m=\u001b[39m confusion_matrix(y_true, y_pred_labels)\n\u001b[0;32m     <a href='vscode-notebook-cell:/e%3A/Research/ckt.ipynb#X20sZmlsZQ%3D%3D?line=12'>13</a>\u001b[0m \u001b[39m# Now you can print or visualize the confusion matrix\u001b[39;00m\n\u001b[0;32m     <a href='vscode-notebook-cell:/e%3A/Research/ckt.ipynb#X20sZmlsZQ%3D%3D?line=13'>14</a>\u001b[0m \u001b[39mprint\u001b[39m(\u001b[39m\"\u001b[39m\u001b[39mConfusion Matrix:\u001b[39m\u001b[39m\"\u001b[39m)\n",
      "File \u001b[1;32md:\\anaconda\\lib\\site-packages\\sklearn\\metrics\\_classification.py:317\u001b[0m, in \u001b[0;36mconfusion_matrix\u001b[1;34m(y_true, y_pred, labels, sample_weight, normalize)\u001b[0m\n\u001b[0;32m    232\u001b[0m \u001b[39mdef\u001b[39;00m \u001b[39mconfusion_matrix\u001b[39m(\n\u001b[0;32m    233\u001b[0m     y_true, y_pred, \u001b[39m*\u001b[39m, labels\u001b[39m=\u001b[39m\u001b[39mNone\u001b[39;00m, sample_weight\u001b[39m=\u001b[39m\u001b[39mNone\u001b[39;00m, normalize\u001b[39m=\u001b[39m\u001b[39mNone\u001b[39;00m\n\u001b[0;32m    234\u001b[0m ):\n\u001b[0;32m    235\u001b[0m     \u001b[39m\"\"\"Compute confusion matrix to evaluate the accuracy of a classification.\u001b[39;00m\n\u001b[0;32m    236\u001b[0m \n\u001b[0;32m    237\u001b[0m \u001b[39m    By definition a confusion matrix :math:`C` is such that :math:`C_{i, j}`\u001b[39;00m\n\u001b[1;32m   (...)\u001b[0m\n\u001b[0;32m    315\u001b[0m \u001b[39m    (0, 2, 1, 1)\u001b[39;00m\n\u001b[0;32m    316\u001b[0m \u001b[39m    \"\"\"\u001b[39;00m\n\u001b[1;32m--> 317\u001b[0m     y_type, y_true, y_pred \u001b[39m=\u001b[39m _check_targets(y_true, y_pred)\n\u001b[0;32m    318\u001b[0m     \u001b[39mif\u001b[39;00m y_type \u001b[39mnot\u001b[39;00m \u001b[39min\u001b[39;00m (\u001b[39m\"\u001b[39m\u001b[39mbinary\u001b[39m\u001b[39m\"\u001b[39m, \u001b[39m\"\u001b[39m\u001b[39mmulticlass\u001b[39m\u001b[39m\"\u001b[39m):\n\u001b[0;32m    319\u001b[0m         \u001b[39mraise\u001b[39;00m \u001b[39mValueError\u001b[39;00m(\u001b[39m\"\u001b[39m\u001b[39m%s\u001b[39;00m\u001b[39m is not supported\u001b[39m\u001b[39m\"\u001b[39m \u001b[39m%\u001b[39m y_type)\n",
      "File \u001b[1;32md:\\anaconda\\lib\\site-packages\\sklearn\\metrics\\_classification.py:95\u001b[0m, in \u001b[0;36m_check_targets\u001b[1;34m(y_true, y_pred)\u001b[0m\n\u001b[0;32m     92\u001b[0m     y_type \u001b[39m=\u001b[39m {\u001b[39m\"\u001b[39m\u001b[39mmulticlass\u001b[39m\u001b[39m\"\u001b[39m}\n\u001b[0;32m     94\u001b[0m \u001b[39mif\u001b[39;00m \u001b[39mlen\u001b[39m(y_type) \u001b[39m>\u001b[39m \u001b[39m1\u001b[39m:\n\u001b[1;32m---> 95\u001b[0m     \u001b[39mraise\u001b[39;00m \u001b[39mValueError\u001b[39;00m(\n\u001b[0;32m     96\u001b[0m         \u001b[39m\"\u001b[39m\u001b[39mClassification metrics can\u001b[39m\u001b[39m'\u001b[39m\u001b[39mt handle a mix of \u001b[39m\u001b[39m{0}\u001b[39;00m\u001b[39m and \u001b[39m\u001b[39m{1}\u001b[39;00m\u001b[39m targets\u001b[39m\u001b[39m\"\u001b[39m\u001b[39m.\u001b[39mformat(\n\u001b[0;32m     97\u001b[0m             type_true, type_pred\n\u001b[0;32m     98\u001b[0m         )\n\u001b[0;32m     99\u001b[0m     )\n\u001b[0;32m    101\u001b[0m \u001b[39m# We can't have more than one value on y_type => The set is no more needed\u001b[39;00m\n\u001b[0;32m    102\u001b[0m y_type \u001b[39m=\u001b[39m y_type\u001b[39m.\u001b[39mpop()\n",
      "\u001b[1;31mValueError\u001b[0m: Classification metrics can't handle a mix of multiclass and multilabel-indicator targets"
     ]
    }
   ],
   "source": [
    "from sklearn.metrics import confusion_matrix\n",
    "import numpy as np\n",
    "\n",
    "# Assuming you have a threshold value to determine class membership\n",
    "threshold = 0.5  # Adjust this threshold as needed\n",
    "\n",
    "# Convert continuous predictions to class labels\n",
    "y_pred_labels = (y_pred > threshold).astype(int)\n",
    "\n",
    "# Calculate the confusion matrix with the discrete labels\n",
    "confusion = confusion_matrix(y_true, y_pred_labels)\n",
    "\n",
    "# Now you can print or visualize the confusion matrix\n",
    "print(\"Confusion Matrix:\")\n",
    "print(confusion)"
   ]
  },
  {
   "cell_type": "code",
   "execution_count": 17,
   "metadata": {},
   "outputs": [
    {
     "name": "stdout",
     "output_type": "stream",
     "text": [
      "(65535, 32, 32)\n"
     ]
    }
   ],
   "source": [
    "data_1 = np.load('E:\\\\Research\\\\test\\\\data_32.npy')\n",
    "print(data_1.shape)"
   ]
  },
  {
   "cell_type": "code",
   "execution_count": 18,
   "metadata": {},
   "outputs": [
    {
     "name": "stdout",
     "output_type": "stream",
     "text": [
      "Model: \"sequential\"\n",
      "_________________________________________________________________\n",
      " Layer (type)                Output Shape              Param #   \n",
      "=================================================================\n",
      " conv2d (Conv2D)             (None, 32, 32, 32)        320       \n",
      "                                                                 \n",
      " conv2d_1 (Conv2D)           (None, 32, 32, 32)        9248      \n",
      "                                                                 \n",
      " max_pooling2d (MaxPooling2  (None, 16, 16, 32)        0         \n",
      " D)                                                              \n",
      "                                                                 \n",
      " dropout (Dropout)           (None, 16, 16, 32)        0         \n",
      "                                                                 \n",
      " conv2d_2 (Conv2D)           (None, 16, 16, 64)        18496     \n",
      "                                                                 \n",
      " conv2d_3 (Conv2D)           (None, 16, 16, 64)        36928     \n",
      "                                                                 \n",
      " max_pooling2d_1 (MaxPoolin  (None, 8, 8, 64)          0         \n",
      " g2D)                                                            \n",
      "                                                                 \n",
      " dropout_1 (Dropout)         (None, 8, 8, 64)          0         \n",
      "                                                                 \n",
      " conv2d_4 (Conv2D)           (None, 8, 8, 64)          36928     \n",
      "                                                                 \n",
      " conv2d_5 (Conv2D)           (None, 8, 8, 64)          36928     \n",
      "                                                                 \n",
      " max_pooling2d_2 (MaxPoolin  (None, 4, 4, 64)          0         \n",
      " g2D)                                                            \n",
      "                                                                 \n",
      " dropout_2 (Dropout)         (None, 4, 4, 64)          0         \n",
      "                                                                 \n",
      " flatten (Flatten)           (None, 1024)              0         \n",
      "                                                                 \n",
      " dense (Dense)               (None, 1024)              1049600   \n",
      "                                                                 \n",
      " dropout_3 (Dropout)         (None, 1024)              0         \n",
      "                                                                 \n",
      " dense_1 (Dense)             (None, 15)                15375     \n",
      "                                                                 \n",
      "=================================================================\n",
      "Total params: 1203823 (4.59 MB)\n",
      "Trainable params: 1203823 (4.59 MB)\n",
      "Non-trainable params: 0 (0.00 Byte)\n",
      "_________________________________________________________________\n",
      "None\n"
     ]
    }
   ],
   "source": [
    "# Create CNN model\n",
    "import tensorflow as tf\n",
    "import keras\n",
    "from keras import datasets, layers, models\n",
    "from keras import backend as K\n",
    "from keras.layers import Dense, Dropout, Flatten\n",
    "\n",
    "model = models.Sequential()\n",
    "model.add(layers.Conv2D(32, (3, 3), padding='same', activation='relu', input_shape=(32,32,1)))\n",
    "#model.add(layers.MaxPooling2D((2, 2)))\n",
    "#model.add(Dropout(0.50))\n",
    "model.add(layers.Conv2D(32, (3, 3), padding='same', activation='relu'))\n",
    "model.add(layers.MaxPooling2D((2, 2)))\n",
    "model.add(Dropout(0.25))\n",
    "\n",
    "model.add(layers.Conv2D(64, (3, 3), padding='same', activation='relu'))\n",
    "model.add(layers.Conv2D(64, (3, 3), padding='same', activation='relu'))\n",
    "model.add(layers.MaxPooling2D((2, 2)))\n",
    "model.add(Dropout(0.25))\n",
    "\n",
    "model.add(layers.Conv2D(64, (3, 3), padding='same', activation='relu'))\n",
    "model.add(layers.Conv2D(64, (3, 3), padding='same', activation='relu'))\n",
    "model.add(layers.MaxPooling2D((2, 2)))\n",
    "model.add(Dropout(0.25))\n",
    "\n",
    "#model.add(Dropout(0.50))\n",
    "model.add(layers.Flatten())\n",
    "model.add(layers.Dense(1024,  activation='relu'))\n",
    "#model.add(layers.Dense(128, activation='relu'))\n",
    "model.add(Dropout(0.5))\n",
    "model.add(layers.Dense(15, activation='softmax'))\n",
    "# Compile model\n",
    "#opt = keras.optimizers.Adam(learning_rate=0.0001)\n",
    "\n",
    "print(model.summary())"
   ]
  },
  {
   "cell_type": "code",
   "execution_count": 20,
   "metadata": {},
   "outputs": [
    {
     "name": "stdout",
     "output_type": "stream",
     "text": [
      "Epoch 1/20\n",
      "154/154 [==============================] - 221s 1s/step - loss: 2.2384 - accuracy: 0.2496 - val_loss: 1.6366 - val_accuracy: 0.4463\n",
      "Epoch 2/20\n",
      "154/154 [==============================] - 130s 843ms/step - loss: 1.5198 - accuracy: 0.4803 - val_loss: 1.1863 - val_accuracy: 0.5967\n",
      "Epoch 3/20\n",
      "154/154 [==============================] - 283s 2s/step - loss: 1.1799 - accuracy: 0.5867 - val_loss: 0.9989 - val_accuracy: 0.6512\n",
      "Epoch 4/20\n",
      "154/154 [==============================] - 192s 1s/step - loss: 1.0000 - accuracy: 0.6492 - val_loss: 0.8257 - val_accuracy: 0.7204\n",
      "Epoch 5/20\n",
      "154/154 [==============================] - 256s 2s/step - loss: 0.8684 - accuracy: 0.6913 - val_loss: 0.7495 - val_accuracy: 0.7394\n",
      "Epoch 6/20\n",
      "154/154 [==============================] - 179s 1s/step - loss: 0.7878 - accuracy: 0.7222 - val_loss: 0.6882 - val_accuracy: 0.7633\n",
      "Epoch 7/20\n",
      "154/154 [==============================] - 128s 828ms/step - loss: 0.7146 - accuracy: 0.7453 - val_loss: 0.6406 - val_accuracy: 0.7759\n",
      "Epoch 8/20\n",
      "154/154 [==============================] - 103s 666ms/step - loss: 0.6605 - accuracy: 0.7653 - val_loss: 0.5836 - val_accuracy: 0.7996\n",
      "Epoch 9/20\n",
      "154/154 [==============================] - 100s 647ms/step - loss: 0.6035 - accuracy: 0.7853 - val_loss: 0.5495 - val_accuracy: 0.8103\n",
      "Epoch 10/20\n",
      "154/154 [==============================] - 100s 651ms/step - loss: 0.5714 - accuracy: 0.7985 - val_loss: 0.5326 - val_accuracy: 0.8167\n",
      "Epoch 11/20\n",
      "154/154 [==============================] - 104s 677ms/step - loss: 0.5305 - accuracy: 0.8121 - val_loss: 0.5045 - val_accuracy: 0.8253\n",
      "Epoch 12/20\n",
      "154/154 [==============================] - 105s 679ms/step - loss: 0.4973 - accuracy: 0.8236 - val_loss: 0.4996 - val_accuracy: 0.8265\n",
      "Epoch 13/20\n",
      "154/154 [==============================] - 105s 683ms/step - loss: 0.4681 - accuracy: 0.8344 - val_loss: 0.4838 - val_accuracy: 0.8314\n",
      "Epoch 14/20\n",
      "154/154 [==============================] - 104s 678ms/step - loss: 0.4434 - accuracy: 0.8449 - val_loss: 0.4647 - val_accuracy: 0.8427\n",
      "Epoch 15/20\n",
      "154/154 [==============================] - 106s 688ms/step - loss: 0.4140 - accuracy: 0.8531 - val_loss: 0.4652 - val_accuracy: 0.8434\n",
      "Epoch 16/20\n",
      "154/154 [==============================] - 104s 675ms/step - loss: 0.4016 - accuracy: 0.8574 - val_loss: 0.4330 - val_accuracy: 0.8502\n",
      "Epoch 17/20\n",
      "154/154 [==============================] - 104s 674ms/step - loss: 0.3742 - accuracy: 0.8684 - val_loss: 0.4227 - val_accuracy: 0.8572\n",
      "Epoch 18/20\n",
      "154/154 [==============================] - 104s 676ms/step - loss: 0.3580 - accuracy: 0.8729 - val_loss: 0.4235 - val_accuracy: 0.8580\n",
      "Epoch 19/20\n",
      "154/154 [==============================] - 104s 677ms/step - loss: 0.3476 - accuracy: 0.8768 - val_loss: 0.4087 - val_accuracy: 0.8607\n",
      "Epoch 20/20\n",
      "154/154 [==============================] - 120s 780ms/step - loss: 0.3331 - accuracy: 0.8821 - val_loss: 0.4102 - val_accuracy: 0.8623\n"
     ]
    }
   ],
   "source": [
    "model.compile(optimizer='Adam',loss=tf.keras.losses.SparseCategoricalCrossentropy(),metrics=['accuracy'])\n",
    "#model.compile(optimizer='Adam',loss='categorical_crossentropy',metrics=['accuracy'])\n",
    "early_stop = tf.keras.callbacks.EarlyStopping(monitor='val_loss', patience=3)\n",
    "#history = model.fit(X_train, y_train, epochs=20, batch_size=256, validation_split=.2)\n",
    "history = model.fit(X_train, y_train, epochs=20, batch_size=256, validation_data=(X_val,y_val))"
   ]
  },
  {
   "cell_type": "code",
   "execution_count": 21,
   "metadata": {},
   "outputs": [
    {
     "name": "stdout",
     "output_type": "stream",
     "text": [
      "410/410 - 12s - loss: 0.4046 - accuracy: 0.8657 - 12s/epoch - 29ms/step\n"
     ]
    },
    {
     "data": {
      "image/png": "[encoded data removed]",
      "text/plain": [
       "<Figure size 640x480 with 1 Axes>"
      ]
     },
     "metadata": {},
     "output_type": "display_data"
    }
   ],
   "source": [
    "import matplotlib.pyplot as pl\n",
    "pl.plot(history.history['accuracy'], label='accuracy')\n",
    "pl.plot(history.history['val_accuracy'], label = 'val_accuracy')\n",
    "pl.xlabel('Epoch')\n",
    "pl.ylabel('Accuracy')\n",
    "pl.ylim([0, 1])\n",
    "pl.legend(loc='lower right')\n",
    "\n",
    "test_loss, test_acc = model.evaluate(X_test, y_test, verbose=2) "
   ]
  }
 ],
 "metadata": {
  "kernelspec": {
   "display_name": "Python 3",
   "language": "python",
   "name": "python3"
  },
  "language_info": {
   "codemirror_mode": {
    "name": "ipython",
    "version": 3
   },
   "file_extension": ".py",
   "mimetype": "text/x-python",
   "name": "python",
   "nbconvert_exporter": "python",
   "pygments_lexer": "ipython3",
   "version": "3.10.9"
  }
 },
 "nbformat": 4,
 "nbformat_minor": 2
}
